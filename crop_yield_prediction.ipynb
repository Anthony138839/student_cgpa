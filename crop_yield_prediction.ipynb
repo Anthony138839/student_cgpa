{
 "cells": [
  {
   "cell_type": "markdown",
   "id": "f2a6bff4",
   "metadata": {},
   "source": []
  },
  {
   "cell_type": "code",
   "execution_count": null,
   "id": "9209f813",
   "metadata": {},
   "outputs": [],
   "source": []
  }
 ],
 "metadata": {
  "language_info": {
   "name": "python"
  }
 },
 "nbformat": 4,
 "nbformat_minor": 5
}
